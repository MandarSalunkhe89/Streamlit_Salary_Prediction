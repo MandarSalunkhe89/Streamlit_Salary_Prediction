{
 "cells": [
  {
   "cell_type": "markdown",
   "id": "773e1010",
   "metadata": {},
   "source": [
    "## 1/ Import Libraries"
   ]
  },
  {
   "cell_type": "code",
   "execution_count": 2,
   "id": "4614ec66",
   "metadata": {},
   "outputs": [],
   "source": [
    "import pandas as pd\n",
    "from sklearn import linear_model\n",
    "import joblib"
   ]
  },
  {
   "cell_type": "markdown",
   "id": "bac9bec0",
   "metadata": {},
   "source": [
    "## 2/ Import Data"
   ]
  },
  {
   "cell_type": "code",
   "execution_count": 6,
   "id": "5d533dbe",
   "metadata": {},
   "outputs": [
    {
     "data": {
      "text/html": [
       "<div>\n",
       "<style scoped>\n",
       "    .dataframe tbody tr th:only-of-type {\n",
       "        vertical-align: middle;\n",
       "    }\n",
       "\n",
       "    .dataframe tbody tr th {\n",
       "        vertical-align: top;\n",
       "    }\n",
       "\n",
       "    .dataframe thead th {\n",
       "        text-align: right;\n",
       "    }\n",
       "</style>\n",
       "<table border=\"1\" class=\"dataframe\">\n",
       "  <thead>\n",
       "    <tr style=\"text-align: right;\">\n",
       "      <th></th>\n",
       "      <th>y_salary</th>\n",
       "      <th>x1_Experience</th>\n",
       "      <th>X2_Skills</th>\n",
       "    </tr>\n",
       "  </thead>\n",
       "  <tbody>\n",
       "    <tr>\n",
       "      <th>0</th>\n",
       "      <td>3.0</td>\n",
       "      <td>0.9</td>\n",
       "      <td>1.0</td>\n",
       "    </tr>\n",
       "    <tr>\n",
       "      <th>1</th>\n",
       "      <td>4.0</td>\n",
       "      <td>1.3</td>\n",
       "      <td>3.0</td>\n",
       "    </tr>\n",
       "    <tr>\n",
       "      <th>2</th>\n",
       "      <td>5.0</td>\n",
       "      <td>2.4</td>\n",
       "      <td>4.0</td>\n",
       "    </tr>\n",
       "    <tr>\n",
       "      <th>3</th>\n",
       "      <td>6.0</td>\n",
       "      <td>2.7</td>\n",
       "      <td>4.0</td>\n",
       "    </tr>\n",
       "    <tr>\n",
       "      <th>4</th>\n",
       "      <td>7.0</td>\n",
       "      <td>2.9</td>\n",
       "      <td>5.0</td>\n",
       "    </tr>\n",
       "  </tbody>\n",
       "</table>\n",
       "</div>"
      ],
      "text/plain": [
       "   y_salary  x1_Experience  X2_Skills\n",
       "0       3.0            0.9        1.0\n",
       "1       4.0            1.3        3.0\n",
       "2       5.0            2.4        4.0\n",
       "3       6.0            2.7        4.0\n",
       "4       7.0            2.9        5.0"
      ]
     },
     "execution_count": 6,
     "metadata": {},
     "output_type": "execute_result"
    }
   ],
   "source": [
    "train = pd.read_csv(\"train.csv\")\n",
    "train.head()"
   ]
  },
  {
   "cell_type": "markdown",
   "id": "3be8b884",
   "metadata": {},
   "source": [
    "## 3/ Build Model"
   ]
  },
  {
   "cell_type": "code",
   "execution_count": 8,
   "id": "1fe5efc0",
   "metadata": {},
   "outputs": [],
   "source": [
    "## creating instances here\n",
    "reg = linear_model.LinearRegression()"
   ]
  },
  {
   "cell_type": "code",
   "execution_count": 10,
   "id": "31769ada",
   "metadata": {},
   "outputs": [],
   "source": [
    "## defining X & Y \n",
    "\n",
    "X = train [['x1_Experience', 'X2_Skills']]\n",
    "y = train['y_salary']"
   ]
  },
  {
   "cell_type": "markdown",
   "id": "eaa3a1c0",
   "metadata": {},
   "source": [
    "## 4/ Fit Model"
   ]
  },
  {
   "cell_type": "code",
   "execution_count": 11,
   "id": "9d488f69",
   "metadata": {},
   "outputs": [
    {
     "data": {
      "text/plain": [
       "LinearRegression()"
      ]
     },
     "execution_count": 11,
     "metadata": {},
     "output_type": "execute_result"
    }
   ],
   "source": [
    "reg.fit(X,y)"
   ]
  },
  {
   "cell_type": "code",
   "execution_count": 19,
   "id": "cbaa726d",
   "metadata": {},
   "outputs": [
    {
     "name": "stdout",
     "output_type": "stream",
     "text": [
      "Coeeficients: /n [1.09855335 0.41500904]\n",
      "----------------------------------------\n",
      "Intercepts: /n 1.326853526220619\n"
     ]
    }
   ],
   "source": [
    "print(\"Coeeficients: /n\", reg.coef_)\n",
    "\n",
    "print(\"----------------------------------------\")\n",
    "\n",
    "print('Intercepts: /n', reg.intercept_)"
   ]
  },
  {
   "cell_type": "markdown",
   "id": "f192e5f0",
   "metadata": {},
   "source": [
    "## 5/ Export Pickle Model"
   ]
  },
  {
   "cell_type": "code",
   "execution_count": 18,
   "id": "5c95ec9f",
   "metadata": {},
   "outputs": [
    {
     "data": {
      "text/plain": [
       "['G:\\\\Mandar\\\\__Pycharm_st_ML\\\\Model\\\\predict_salary.pkl']"
      ]
     },
     "execution_count": 18,
     "metadata": {},
     "output_type": "execute_result"
    }
   ],
   "source": [
    "joblib.dump(reg, 'G:\\Mandar\\\\__Pycharm_st_ML\\\\Model\\\\predict_salary.pkl')"
   ]
  },
  {
   "cell_type": "markdown",
   "id": "8692763d",
   "metadata": {},
   "source": [
    "## 6/ Model Prediction"
   ]
  },
  {
   "cell_type": "code",
   "execution_count": 25,
   "id": "5d86b9cb",
   "metadata": {},
   "outputs": [],
   "source": [
    "## creating DataFrame\n",
    "\n",
    "user_input = pd.DataFrame({'x1_Experience': [2.4],\n",
    "                          'X2_Skills':[4]})"
   ]
  },
  {
   "cell_type": "code",
   "execution_count": 21,
   "id": "d3dd9de0",
   "metadata": {},
   "outputs": [
    {
     "data": {
      "text/html": [
       "<div>\n",
       "<style scoped>\n",
       "    .dataframe tbody tr th:only-of-type {\n",
       "        vertical-align: middle;\n",
       "    }\n",
       "\n",
       "    .dataframe tbody tr th {\n",
       "        vertical-align: top;\n",
       "    }\n",
       "\n",
       "    .dataframe thead th {\n",
       "        text-align: right;\n",
       "    }\n",
       "</style>\n",
       "<table border=\"1\" class=\"dataframe\">\n",
       "  <thead>\n",
       "    <tr style=\"text-align: right;\">\n",
       "      <th></th>\n",
       "      <th>x1_Experience</th>\n",
       "      <th>X2_Skills</th>\n",
       "    </tr>\n",
       "  </thead>\n",
       "  <tbody>\n",
       "    <tr>\n",
       "      <th>0</th>\n",
       "      <td>2.4</td>\n",
       "      <td>4</td>\n",
       "    </tr>\n",
       "  </tbody>\n",
       "</table>\n",
       "</div>"
      ],
      "text/plain": [
       "   x1_Experience  X2_Skills\n",
       "0            2.4          4"
      ]
     },
     "execution_count": 21,
     "metadata": {},
     "output_type": "execute_result"
    }
   ],
   "source": [
    "user_input"
   ]
  },
  {
   "cell_type": "code",
   "execution_count": 24,
   "id": "3cf0a880",
   "metadata": {},
   "outputs": [
    {
     "data": {
      "text/plain": [
       "array([5.62341772])"
      ]
     },
     "execution_count": 24,
     "metadata": {},
     "output_type": "execute_result"
    }
   ],
   "source": [
    "# Loading trained Model & predicting the already trained model\n",
    "\n",
    "model_reg_imported = joblib.load('G:\\Mandar\\\\__Pycharm_st_ML\\\\Model\\\\predict_salary.pkl')\n",
    "model_reg_imported.predict(user_input)"
   ]
  },
  {
   "cell_type": "code",
   "execution_count": null,
   "id": "56121d04",
   "metadata": {},
   "outputs": [],
   "source": []
  }
 ],
 "metadata": {
  "kernelspec": {
   "display_name": "Python 3 (ipykernel)",
   "language": "python",
   "name": "python3"
  },
  "language_info": {
   "codemirror_mode": {
    "name": "ipython",
    "version": 3
   },
   "file_extension": ".py",
   "mimetype": "text/x-python",
   "name": "python",
   "nbconvert_exporter": "python",
   "pygments_lexer": "ipython3",
   "version": "3.9.12"
  }
 },
 "nbformat": 4,
 "nbformat_minor": 5
}
